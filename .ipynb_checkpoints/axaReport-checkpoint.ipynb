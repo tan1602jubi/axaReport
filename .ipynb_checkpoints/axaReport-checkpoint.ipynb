{
 "cells": [
  {
   "cell_type": "code",
   "execution_count": 1,
   "metadata": {},
   "outputs": [],
   "source": [
    "import pandas as pd\n",
    "import numpy as np"
   ]
  },
  {
   "cell_type": "code",
   "execution_count": 2,
   "metadata": {},
   "outputs": [],
   "source": [
    "x = pd.ExcelFile('UAT_BhartiAxa_AgentLandingPage_185232118995_02-01-2020_12_00_17-01-2020_12_00_tags_ALL.xlsx')"
   ]
  },
  {
   "cell_type": "code",
   "execution_count": 3,
   "metadata": {},
   "outputs": [],
   "source": [
    "df = x.parse('Data Dump')"
   ]
  },
  {
   "cell_type": "code",
   "execution_count": 4,
   "metadata": {},
   "outputs": [],
   "source": [
    "reportData = []\n",
    "for i in range(len(df)):\n",
    "    record = {}\n",
    "    for col in df.columns:\n",
    "        record[col] = \"\"\n",
    "        try:\n",
    "            record[col] = str(df[col][i])\n",
    "        except Exception as er:\n",
    "            print(er, \"errrrrrrrrr\")\n",
    "            record[col] = \"---\"\n",
    "    reportData.append(record)        "
   ]
  },
  {
   "cell_type": "code",
   "execution_count": 36,
   "metadata": {},
   "outputs": [],
   "source": [
    "def total_users(reportData):\n",
    "    reportJson = {}\n",
    "    users = {}\n",
    "    agentsData = []\n",
    "    \n",
    "    for i in reportData:\n",
    "        try:\n",
    "            journey = getJourney(i)\n",
    "            if journey in list(reportJson.keys()):\n",
    "                reportJson[journey][\"paymentDone\"] += paymentPassCount(i)\n",
    "                reportJson[journey][\"paymentfail\"] += paymentFailCount(i)\n",
    "                reportJson[journey][\"policyGenerated\"] += policyPassCount(i)\n",
    "                reportJson[journey][\"policyGeneratedFail\"] += policyFailCount(i)\n",
    "                users[journey].append(getUser(i))  \n",
    "            else:\n",
    "                reportJson[journey] = {}\n",
    "                reportJson[journey][\"paymentDone\"] = 0\n",
    "                reportJson[journey][\"paymentfail\"] = 0\n",
    "                reportJson[journey][\"policyGenerated\"] = 0\n",
    "                reportJson[journey][\"policyGeneratedFail\"] = 0\n",
    "                users[journey] = []        \n",
    "        except Exception as er:\n",
    "            print(er, \"errrorrroorr\")\n",
    "            pass\n",
    "    return reportJson, users"
   ]
  },
  {
   "cell_type": "code",
   "execution_count": 33,
   "metadata": {},
   "outputs": [],
   "source": [
    "def getJourney(obj):\n",
    "    if \"JOURNEYCODE\" in list(obj.keys()):\n",
    "        return obj[\"JOURNEYCODE\"]\n",
    "    else:\n",
    "        return \"unknown Journey\"\n",
    "\n",
    "def paymentPassCount(obj):\n",
    "    if \"PAYMENT\" in list(obj.keys()) and (obj[\"PAYMENT\"] == \"paymentDone\" or obj[\"PAYMENT\"] == \"success\"):\n",
    "        return 1\n",
    "    elif \"PAYMENT\" in list(obj.keys()) and (obj[\"PAYMENT\"] == \"paymentFailed\" or obj[\"PAYMENT\"] == \"failed\"):\n",
    "        return 0\n",
    "    else:\n",
    "        return 0\n",
    "    \n",
    "def paymentFailCount(obj):\n",
    "    if \"PAYMENT\" in list(obj.keys()) and (obj[\"PAYMENT\"] == \"paymentFailed\" or obj[\"PAYMENT\"] == \"failed\"):\n",
    "        return 1\n",
    "    elif \"PAYMENT\" in list(obj.keys()) and (obj[\"PAYMENT\"] == \"paymentDone\" or obj[\"PAYMENT\"] == \"success\"):\n",
    "        return 0\n",
    "    else:\n",
    "        return 0\n",
    "    \n",
    "def policyPassCount(obj):\n",
    "    if \"REVIEWFAIL\" in list(obj.keys()) and obj[\"REVIEWFAIL\"] == \"false\":\n",
    "        return 1\n",
    "    elif \"REVIEWFAIL\" in list(obj.keys()) and obj[\"REVIEWFAIL\"] == \"true\":\n",
    "        return 0\n",
    "    else:\n",
    "        return 0\n",
    "    \n",
    "def policyFailCount(obj):\n",
    "    if \"REVIEWFAIL\" in list(obj.keys()) and obj[\"REVIEWFAIL\"] == \"true\":\n",
    "        return 1\n",
    "    elif \"REVIEWFAIL\" in list(obj.keys()) and obj[\"REVIEWFAIL\"] == \"false\":\n",
    "        return 0\n",
    "    else:\n",
    "        return 0\n",
    "    \n",
    "def getUser(obj):\n",
    "    if \"SOURCE\" in list(obj.keys()) and not obj[\"SOURCE\"] == \"nan\" and not obj[\"SOURCE\"] == \"NaN\":\n",
    "        return obj[\"SOURCE\"]\n",
    "    else:\n",
    "        return \"Unknown Source\"\n",
    "    "
   ]
  },
  {
   "cell_type": "code",
   "execution_count": 35,
   "metadata": {},
   "outputs": [
    {
     "ename": "NameError",
     "evalue": "name 'reportJson' is not defined",
     "output_type": "error",
     "traceback": [
      "\u001b[0;31m---------------------------------------------------------------------------\u001b[0m",
      "\u001b[0;31mNameError\u001b[0m                                 Traceback (most recent call last)",
      "\u001b[0;32m<ipython-input-35-62717cc6ec9d>\u001b[0m in \u001b[0;36m<module>\u001b[0;34m\u001b[0m\n\u001b[0;32m----> 1\u001b[0;31m \u001b[0mreportJson\u001b[0m\u001b[0;34m\u001b[0m\u001b[0;34m\u001b[0m\u001b[0m\n\u001b[0m",
      "\u001b[0;31mNameError\u001b[0m: name 'reportJson' is not defined"
     ]
    }
   ],
   "source": [
    "reportJson"
   ]
  },
  {
   "cell_type": "code",
   "execution_count": 38,
   "metadata": {},
   "outputs": [],
   "source": [
    "report, users = total_users(reportData)"
   ]
  },
  {
   "cell_type": "code",
   "execution_count": 29,
   "metadata": {},
   "outputs": [],
   "source": [
    "p = df[(df[\"PAYMENT\"] == \"paymentDone\") | (df[\"PAYMENT\"] == \"success\")]"
   ]
  },
  {
   "cell_type": "code",
   "execution_count": 31,
   "metadata": {},
   "outputs": [
    {
     "data": {
      "text/plain": [
       "12"
      ]
     },
     "execution_count": 31,
     "metadata": {},
     "output_type": "execute_result"
    }
   ],
   "source": [
    "len(p[\"PAYMENT\"])"
   ]
  },
  {
   "cell_type": "code",
   "execution_count": 41,
   "metadata": {},
   "outputs": [
    {
     "data": {
      "text/plain": [
       "['MTEwMDAwMTM=',\n",
       " 'MTEwMDAwMTQ=',\n",
       " 'MTEwMDAxNzg=',\n",
       " 'MTEwMDA4NjM',\n",
       " 'Unknown Source',\n",
       " 'MTEwMDA4NjM=']"
      ]
     },
     "execution_count": 41,
     "metadata": {},
     "output_type": "execute_result"
    }
   ],
   "source": [
    "list(set(users['unknown Journey']))"
   ]
  },
  {
   "cell_type": "code",
   "execution_count": 7,
   "metadata": {},
   "outputs": [
    {
     "data": {
      "text/plain": [
       "{'SOURCE': 'nan',\n",
       " 'USERAGENTID': 'nan',\n",
       " 'RATECARDTYPE': 'nan',\n",
       " 'UTMEXTRACTION': 'nan',\n",
       " 'USERSAYS': 'Pincode',\n",
       " 'UNDEFINED': 'Get Started',\n",
       " 'MAKEMODEL': 'HONDA_MOTORS ACTIVA 4G',\n",
       " 'CITYREGISTRATION': 'NAVI MUMBAI, MAHARASHTRA',\n",
       " 'MAGFDATE': '11/2019',\n",
       " 'WEBVIEW': 'cancel',\n",
       " 'STAGE1': 'Find nearest branch',\n",
       " 'START': 'Pincode',\n",
       " 'PINCODE': 'nan',\n",
       " 'SHOWBRANCHES': 'nan',\n",
       " 'SMSEMAIL': 'nan',\n",
       " 'SENDINGSMS': 'nan',\n",
       " 'POLICYNO': 'nan',\n",
       " 'ENGINECHAASIS': 'nan',\n",
       " 'SHOWQUOTE': 'nan',\n",
       " 'INFOOPTION': 'nan',\n",
       " 'ADDFEATURE': 'nan',\n",
       " 'BLOCKBOT': 'nan',\n",
       " 'EMAILMOB': 'nan',\n",
       " 'MOBILE': 'nan',\n",
       " 'PAYMENT': 'nan',\n",
       " 'NAME': 'nan',\n",
       " 'ADDRESSPINCODE': 'nan',\n",
       " 'NOMINEEDET': 'nan',\n",
       " 'NOMAGE': 'nan',\n",
       " 'ADDON': 'nan',\n",
       " 'NOMREAL': 'nan',\n",
       " 'CHASSIS': 'nan',\n",
       " 'ENGINE': 'nan',\n",
       " 'REVIEWPOLICY': 'nan',\n",
       " 'EMAIL': 'nan',\n",
       " 'QUOTENUM': 'nan',\n",
       " 'ORDERNUM': 'nan',\n",
       " 'FINALPREMIUM': 'nan',\n",
       " 'REVIEWFAIL': 'nan',\n",
       " 'VISIONERR': 'nan',\n",
       " 'REGNO': 'nan',\n",
       " 'BREG': 'nan',\n",
       " 'MAKE': 'nan',\n",
       " 'MODEL': 'nan',\n",
       " 'VARI': 'nan',\n",
       " 'POLICYEXP': 'nan',\n",
       " 'REGYEAR': 'nan',\n",
       " 'IDV': 'nan',\n",
       " 'CLAIMS': 'nan',\n",
       " 'NCBVAL': 'nan',\n",
       " 'POLICYTYP': 'nan',\n",
       " 'ENGNUM': 'nan',\n",
       " 'CHASSNUM': 'nan',\n",
       " 'POLICYENDDATE': 'nan',\n",
       " 'POLICYSTARTDATE': 'nan',\n",
       " 'JOURNEYCODE': 'nan',\n",
       " 'QUOTEINFO': 'nan',\n",
       " 'PREMIUMMESSAGE': 'nan',\n",
       " 'SELECTEDQUOTE': 'nan',\n",
       " 'PRICE': 'nan',\n",
       " 'QUOTESGERERATEDLIST': 'nan',\n",
       " 'FLAAPIERROR': 'nan',\n",
       " 'SELECTEMERGENCY': 'nan',\n",
       " 'PAYMENTTEXT': 'nan',\n",
       " 'PAYMENTBUTTON': 'nan',\n",
       " 'ROLLOVERFLAJOURNEYCOMPLATED': 'nan',\n",
       " 'GENDER': 'nan',\n",
       " 'SALUTE': 'nan',\n",
       " 'SURNAME': 'nan',\n",
       " 'CITY': 'nan',\n",
       " 'STATE': 'nan',\n",
       " 'ADDRESS': 'nan',\n",
       " 'NOMNAME': 'nan'}"
      ]
     },
     "execution_count": 7,
     "metadata": {},
     "output_type": "execute_result"
    }
   ],
   "source": [
    "[i for i in reportData if not i[\"SHOWQUOTE\"] is \"nan\"]"
   ]
  },
  {
   "cell_type": "code",
   "execution_count": null,
   "metadata": {},
   "outputs": [],
   "source": []
  }
 ],
 "metadata": {
  "kernelspec": {
   "display_name": "Python 3",
   "language": "python",
   "name": "python3"
  },
  "language_info": {
   "codemirror_mode": {
    "name": "ipython",
    "version": 3
   },
   "file_extension": ".py",
   "mimetype": "text/x-python",
   "name": "python",
   "nbconvert_exporter": "python",
   "pygments_lexer": "ipython3",
   "version": "3.6.9"
  }
 },
 "nbformat": 4,
 "nbformat_minor": 2
}
